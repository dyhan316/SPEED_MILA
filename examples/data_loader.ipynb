{
 "cells": [
  {
   "cell_type": "code",
   "execution_count": 3,
   "metadata": {},
   "outputs": [],
   "source": [
    "from typing import Any, Callable, Sequence, List\n",
    "\n",
    "import h5py\n",
    "import torch\n",
    "from pytorch_lightning import LightningDataModule, cli\n",
    "from pytorch_lightning.cli import SaveConfigCallback\n",
    "from torch.utils.data import DataLoader, Dataset\n",
    "import os"
   ]
  },
  {
   "cell_type": "code",
   "execution_count": 4,
   "metadata": {},
   "outputs": [],
   "source": [
    "class H5PYDataset(Dataset):\n",
    "    def __init__(self, path: str):\n",
    "        if os.path.isdir(path):\n",
    "            self.paths = [os.path.join(path, f) for f in os.listdir(path) if f.endswith('.hdf5')]\n",
    "        else:\n",
    "            raise ValueError(\"Path should be a directory\")\n",
    "        \n",
    "        self.paths.sort()\n",
    "        self.key = 'data'\n",
    "        self.lengths = [self._get_file_length(path) for path in self.paths]\n",
    "        self.cumulative_lengths = self._compute_cumulative_lengths(self.lengths)\n",
    "\n",
    "    def _get_file_length(self, path):\n",
    "        with h5py.File(path, 'r') as file:\n",
    "            return file[self.key].shape[0]\n",
    "\n",
    "    def _compute_cumulative_lengths(self, lengths):\n",
    "        cumulative_lengths = [0]\n",
    "        for length in lengths:\n",
    "            cumulative_lengths.append(cumulative_lengths[-1] + length)\n",
    "        return cumulative_lengths\n",
    "\n",
    "    def __len__(self):\n",
    "        return self.cumulative_lengths[-1]\n",
    "\n",
    "    def _load_data(self, path, local_index):\n",
    "        with h5py.File(path, 'r') as file:\n",
    "            return file[self.key][local_index]\n",
    "\n",
    "    def __getitem__(self, global_index: int):\n",
    "        # If global_index is out of bounds, raise an error\n",
    "        if global_index < 0 or global_index >= len(self):\n",
    "            raise IndexError(f\"Index {global_index} out of bounds for dataset of length {len(self)}\")\n",
    "        \n",
    "        file_index = self._find_file_index(global_index)\n",
    "        local_index = global_index - self.cumulative_lengths[file_index]\n",
    "        data = self._load_data(self.paths[file_index], local_index)\n",
    "        return data\n",
    "\n",
    "    def _find_file_index(self, global_index):\n",
    "        # Binary search to find the right file index\n",
    "        low, high = 0, len(self.cumulative_lengths) - 1\n",
    "        while low < high:\n",
    "            mid = (low + high) // 2\n",
    "            if global_index < self.cumulative_lengths[mid + 1]:\n",
    "                high = mid\n",
    "            else:\n",
    "                low = mid + 1\n",
    "        return low\n",
    "    \n",
    "    def teardown(self):\n",
    "        pass"
   ]
  },
  {
   "cell_type": "code",
   "execution_count": null,
   "metadata": {},
   "outputs": [],
   "source": []
  }
 ],
 "metadata": {
  "kernelspec": {
   "display_name": "EEG@Scale",
   "language": "python",
   "name": "python3"
  },
  "language_info": {
   "codemirror_mode": {
    "name": "ipython",
    "version": 3
   },
   "file_extension": ".py",
   "mimetype": "text/x-python",
   "name": "python",
   "nbconvert_exporter": "python",
   "pygments_lexer": "ipython3",
   "version": "3.11.8"
  }
 },
 "nbformat": 4,
 "nbformat_minor": 2
}
